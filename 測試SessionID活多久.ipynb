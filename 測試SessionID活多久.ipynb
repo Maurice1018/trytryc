{
 "cells": [
  {
   "cell_type": "code",
   "execution_count": null,
   "id": "ae3f0770",
   "metadata": {},
   "outputs": [],
   "source": [
    "import numpy as np\n",
    "import pandas as pd\n",
    "import matplotlib.pyplot as plt\n",
    "\n",
    "import time\n",
    "import datetime\n",
    "\n",
    "import selenium\n",
    "from selenium import webdriver\n",
    "from selenium.webdriver import ChromeOptions\n",
    "from selenium.webdriver.chrome.service import Service\n",
    "from selenium.webdriver.common.by import By"
   ]
  },
  {
   "cell_type": "code",
   "execution_count": null,
   "id": "90b48d08",
   "metadata": {},
   "outputs": [],
   "source": [
    "with open('id_session.txt') as f:\n",
    "    id_session = f.readline()\n",
    "    f.close()"
   ]
  },
  {
   "cell_type": "code",
   "execution_count": null,
   "id": "aeec98cd",
   "metadata": {},
   "outputs": [],
   "source": [
    "t = time.time()\n",
    "#得到明天的日期格式\n",
    "date = datetime.datetime.today() + datetime.timedelta(days = 1)\n",
    "date = date.strftime('%Y/%m/%d')\n",
    "\n",
    "#給瀏覽器的options增加user_agent的訊息\n",
    "options = ChromeOptions() \n",
    "options.add_argument('--headless')\n",
    "user_agent = \"user-agent=Mozilla/5.0 (Windows NT 10.0; Win64; x64) AppleWebKit/537.36 (KHTML, like Gecko) Chrome/131.0.0.0 Safari/537.36\"\n",
    "options.add_argument(user_agent)\n",
    "\n",
    "driver = webdriver.Chrome(options = options, service=Service())"
   ]
  },
  {
   "cell_type": "code",
   "execution_count": null,
   "id": "ed4e2679",
   "metadata": {},
   "outputs": [],
   "source": [
    "url = 'https://scr.cyc.org.tw/tp12.aspx?module=ind&files=ind'\n",
    "driver.get(url)\n",
    "cookie = driver.get_cookie('ASP.NET_SessionId')\n",
    "cookie['value'] = id_session\n",
    "driver.delete_cookie('ASP.NET_SessionId')\n",
    "driver.add_cookie(cookie)\n",
    "driver.refresh()\n",
    "\n",
    "D = 1 #先給定1要有個初始網站爬所有可訂日期\n",
    "url_book = f'https://scr.cyc.org.tw/tp12.aspx?module=net_booking&files=booking_place&StepFlag=2&PT=1&D={date}&D2=1'\n",
    "driver.get(url_book)\n",
    "\n",
    "sport_type = driver.find_element(by=By.ID , value = 'ContentPlaceHolder1_Step2_SportType_lab').text"
   ]
  },
  {
   "cell_type": "code",
   "execution_count": null,
   "id": "7d64507b",
   "metadata": {},
   "outputs": [],
   "source": [
    "t = time.time()\n",
    "tt = 3600\n",
    "i = 1\n",
    "# while cookie['value'] == id_session:\n",
    "while True:\n",
    "    time.sleep(tt)\n",
    "#     tt += 590\n",
    "    tt+=1800\n",
    "    driver.get(url)\n",
    "    driver.refresh()\n",
    "    cookie = driver.get_cookie('ASP.NET_SessionId')\n",
    "    cookie['value'] = id_session\n",
    "    driver.delete_cookie('ASP.NET_SessionId')\n",
    "    driver.add_cookie(cookie)\n",
    "    driver.refresh()\n",
    "    try:\n",
    "        D = 1 #先給定1要有個初始網站爬所有可訂日期\n",
    "        url_book = f'https://scr.cyc.org.tw/tp12.aspx?module=net_booking&files=booking_place&StepFlag=2&PT=1&D={date}&D2=1'\n",
    "        driver.get(url_book)\n",
    "\n",
    "        sport_type = driver.find_element(by=By.ID , value = 'ContentPlaceHolder1_Step2_SportType_lab').text\n",
    "        print(f'{i}次刷新成功，本次花費時間{tt}秒')\n",
    "    except:\n",
    "        print(f'{i}次刷新失敗，{tt}秒後IDSession無效({tt//60}分鐘)')\n",
    "        break\n",
    "#     print(f'{i}次刷新成功')\n",
    "    \n",
    "    i += 1\n",
    "print(f'{time.time()-t:.2f}')"
   ]
  },
  {
   "cell_type": "code",
   "execution_count": null,
   "id": "9c4dcd7a",
   "metadata": {},
   "outputs": [],
   "source": []
  }
 ],
 "metadata": {
  "kernelspec": {
   "display_name": "Python 3 (ipykernel)",
   "language": "python",
   "name": "python3"
  },
  "language_info": {
   "codemirror_mode": {
    "name": "ipython",
    "version": 3
   },
   "file_extension": ".py",
   "mimetype": "text/x-python",
   "name": "python",
   "nbconvert_exporter": "python",
   "pygments_lexer": "ipython3",
   "version": "3.11.3"
  }
 },
 "nbformat": 4,
 "nbformat_minor": 5
}
