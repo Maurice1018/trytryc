{
 "cells": [
  {
   "cell_type": "code",
   "execution_count": 1,
   "id": "09985983",
   "metadata": {},
   "outputs": [],
   "source": [
    "from fastapi import FastAPI\n",
    "from pydantic import BaseModel\n",
    "from typing import List\n",
    "import time\n",
    "from datetime import datetime\n",
    "import json\n",
    "import os\n",
    "\n",
    "from fastapi.responses import JSONResponse\n",
    "from fastapi.staticfiles import StaticFiles\n",
    "from fastapi.templating import Jinja2Templates\n",
    "from starlette.requests import Request\n",
    "\n",
    "from fetch_badminton import fetch_badminton , refresh_sessionID"
   ]
  },
  {
   "cell_type": "code",
   "execution_count": 2,
   "id": "d61d13d2",
   "metadata": {},
   "outputs": [],
   "source": [
    "class Item(BaseModel):\n",
    "    運動中心: str\n",
    "    運動種類: str\n",
    "    場地: str\n",
    "    日期: str\n",
    "    時間: str\n",
    "\n",
    "class ItemResponse(BaseModel):\n",
    "    items: List[Item]\n",
    "    update_time: str\n",
    "\n",
    "app = FastAPI()\n",
    "\n",
    "# 設定靜態資源與模板目錄\n",
    "app.mount(\"/static\", StaticFiles(directory=\"static\"), name=\"static\")\n",
    "templates = Jinja2Templates(directory=\"templates\")\n",
    "\n",
    "# 從檔案讀取資料的 API\n",
    "@app.get(\"/data/\", response_model=List[Item])\n",
    "async def get_items():\n",
    "    with open(\"badminton.json\", \"r\", encoding=\"utf-8\") as f:\n",
    "        items = json.load(f)\n",
    "    file_stat = os.stat('./badminton.json')\n",
    "    update_time = datetime.fromtimestamp(file_stat.st_mtime).strftime('%Y/%m/%d %H:%M:%S')\n",
    "    return {'items':items , 'update_time':update_time}\n",
    "\n",
    "@app.get(\"/api/refresh-session\")\n",
    "async def refresh_session():\n",
    "    try:\n",
    "        refresh_sessionID()\n",
    "        return {\"message\": \"Session refreshed successfully\"}\n",
    "    except Exception as e:\n",
    "        return {\"message\": f\"Failed to refresh session: {str(e)}\"}\n",
    "\n",
    "@app.get(\"/refresh\")\n",
    "async def refresh_page(request: Request):\n",
    "    return templates.TemplateResponse(\"refresh.html\", {\"request\": request})\n",
    "\n",
    "# 提供運動資料給前端\n",
    "@app.get(\"/\")\n",
    "async def index(request: Request):\n",
    "    return templates.TemplateResponse(\"index.html\", {\"request\": request})\n"
   ]
  }
 ],
 "metadata": {
  "kernelspec": {
   "display_name": "Python 3 (ipykernel)",
   "language": "python",
   "name": "python3"
  },
  "language_info": {
   "codemirror_mode": {
    "name": "ipython",
    "version": 3
   },
   "file_extension": ".py",
   "mimetype": "text/x-python",
   "name": "python",
   "nbconvert_exporter": "python",
   "pygments_lexer": "ipython3",
   "version": "3.11.7"
  }
 },
 "nbformat": 4,
 "nbformat_minor": 5
}
