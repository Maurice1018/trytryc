{
 "cells": [
  {
   "cell_type": "code",
   "execution_count": 1,
   "id": "e4539ee2-f142-45ed-bf72-b7746de2d679",
   "metadata": {},
   "outputs": [],
   "source": [
    "from fetch_badminton import fetch_badminton\n",
    "from fetch_badminton import refresh_sessionID\n",
    "import time"
   ]
  },
  {
   "cell_type": "code",
   "execution_count": 2,
   "id": "7505c9f1-47e4-4ca8-8bd8-f83dee77431c",
   "metadata": {},
   "outputs": [
    {
     "name": "stdout",
     "output_type": "stream",
     "text": [
      "Finished! Spend time : 66.60 s\n"
     ]
    }
   ],
   "source": [
    "fetch_badminton()"
   ]
  },
  {
   "cell_type": "code",
   "execution_count": 3,
   "id": "28b51fa3-2712-4534-9beb-2277ccc5a448",
   "metadata": {},
   "outputs": [
    {
     "name": "stdout",
     "output_type": "stream",
     "text": [
      "黃○唐 您好|\n"
     ]
    }
   ],
   "source": [
    "refresh_time = 1450\n",
    "refresh_sessionID()"
   ]
  },
  {
   "cell_type": "code",
   "execution_count": null,
   "id": "fcfffdf3-5aa1-41cf-ac8d-c2919ecdd202",
   "metadata": {},
   "outputs": [],
   "source": []
  }
 ],
 "metadata": {
  "kernelspec": {
   "display_name": "Python 3 (ipykernel)",
   "language": "python",
   "name": "python3"
  },
  "language_info": {
   "codemirror_mode": {
    "name": "ipython",
    "version": 3
   },
   "file_extension": ".py",
   "mimetype": "text/x-python",
   "name": "python",
   "nbconvert_exporter": "python",
   "pygments_lexer": "ipython3",
   "version": "3.11.7"
  }
 },
 "nbformat": 4,
 "nbformat_minor": 5
}
